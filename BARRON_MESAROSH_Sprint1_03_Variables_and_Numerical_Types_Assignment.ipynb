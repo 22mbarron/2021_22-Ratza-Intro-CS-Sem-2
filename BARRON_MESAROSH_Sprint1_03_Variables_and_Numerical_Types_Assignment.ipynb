{
  "cells": [
    {
      "cell_type": "markdown",
      "metadata": {
        "id": "view-in-github",
        "colab_type": "text"
      },
      "source": [
        "<a href=\"https://colab.research.google.com/github/22mbarron/2021_22-Ratza-Intro-CS-Sem-2/blob/main/BARRON_MESAROSH_Sprint1_03_Variables_and_Numerical_Types_Assignment.ipynb\" target=\"_parent\"><img src=\"https://colab.research.google.com/assets/colab-badge.svg\" alt=\"Open In Colab\"/></a>"
      ]
    },
    {
      "cell_type": "markdown",
      "source": [
        "# Key Concepts"
      ],
      "metadata": {
        "collapsed": false,
        "id": "BVd2U0-QVtjS"
      }
    },
    {
      "cell_type": "markdown",
      "source": [
        "### What does it mean for a variable to be mutable or immutable?\n",
        "mutable allows change and inmutable doesnt allow change.\n",
        "\n",
        "\n",
        "\n",
        "### What is the name of the enhancement proposal that outlines Python code style?\n",
        "\n",
        "pep-8\n",
        "\n",
        "\n",
        "\n",
        "### What is the difference between static and dynamic variables?\n",
        "\n",
        "static varabiles remain the same and dynamic can change\n",
        "\n",
        "\n",
        "### What are reserved keywords?\n",
        "\n",
        "a word that cant be used as an identifier\n",
        "\n",
        "\n",
        "\n",
        "\n",
        "\n",
        "### What are the rules for variable naming in Python?\n",
        "\n",
        "it cant start with a number, it has to have and underscotre if there is text, no special characters. \n",
        "\n",
        "\n",
        "\n",
        "### What are the two main numerical types in Python?\n",
        " integers, floating-point numbers. \n",
        "\n",
        "\n",
        "\n",
        "### What are the two components of a complex number?\n",
        "\n",
        "\n",
        "\n"
      ],
      "metadata": {
        "collapsed": false,
        "id": "fdi3QbIxVtjX"
      }
    },
    {
      "cell_type": "markdown",
      "source": [
        "# Code"
      ],
      "metadata": {
        "collapsed": false,
        "id": "ullMrmMeVtjY"
      }
    },
    {
      "cell_type": "markdown",
      "source": [
        "Assign the variables `var_1`, `var_2`, and `var_3` to the value `\"potato\"`"
      ],
      "metadata": {
        "collapsed": false,
        "id": "eyOFJMWxVtjY"
      }
    },
    {
      "cell_type": "code",
      "execution_count": null,
      "metadata": {
        "collapsed": true,
        "id": "HzwaNx89VtjZ"
      },
      "outputs": [],
      "source": [
        ""
      ]
    },
    {
      "cell_type": "markdown",
      "source": [
        "Convert an integer to a float and back to an integer"
      ],
      "metadata": {
        "collapsed": false,
        "id": "7W3GU7haVtja"
      }
    },
    {
      "cell_type": "code",
      "execution_count": null,
      "outputs": [],
      "source": [
        ""
      ],
      "metadata": {
        "pycharm": {
          "name": "#%%\n"
        },
        "id": "ED9i1q80Vtja"
      }
    },
    {
      "cell_type": "code",
      "execution_count": null,
      "outputs": [],
      "source": [
        ""
      ],
      "metadata": {
        "pycharm": {
          "name": "#%%\n"
        },
        "id": "ov9DPEHkVtjb"
      }
    },
    {
      "cell_type": "markdown",
      "source": [
        "Evaluate `42 = 6j + 6`"
      ],
      "metadata": {
        "collapsed": false,
        "id": "paDSwm6UVtjb"
      }
    },
    {
      "cell_type": "code",
      "execution_count": null,
      "outputs": [],
      "source": [
        ""
      ],
      "metadata": {
        "pycharm": {
          "name": "#%%\n"
        },
        "id": "RPwaK47tVtjb"
      }
    }
  ],
  "metadata": {
    "kernelspec": {
      "name": "python3",
      "language": "python",
      "display_name": "Python 3 (ipykernel)"
    },
    "language_info": {
      "codemirror_mode": {
        "name": "ipython",
        "version": 2
      },
      "file_extension": ".py",
      "mimetype": "text/x-python",
      "name": "python",
      "nbconvert_exporter": "python",
      "pygments_lexer": "ipython2",
      "version": "2.7.6"
    },
    "colab": {
      "name": "BARRON MESAROSH - Sprint1 03_Variables-and-Numerical-Types-Assignment.ipynb",
      "provenance": [],
      "include_colab_link": true
    }
  },
  "nbformat": 4,
  "nbformat_minor": 0
}