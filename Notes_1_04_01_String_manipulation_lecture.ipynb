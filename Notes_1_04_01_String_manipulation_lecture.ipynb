{
  "cells": [
    {
      "cell_type": "markdown",
      "metadata": {
        "id": "view-in-github",
        "colab_type": "text"
      },
      "source": [
        "<a href=\"https://colab.research.google.com/github/22mbarron/2021_22-Ratza-Intro-CS-Sem-2/blob/main/Notes_1_04_01_String_manipulation_lecture.ipynb\" target=\"_parent\"><img src=\"https://colab.research.google.com/assets/colab-badge.svg\" alt=\"Open In Colab\"/></a>"
      ]
    },
    {
      "cell_type": "markdown",
      "source": [
        "# String Manipulation\n",
        "\n",
        "[Python Docs](https://docs.python.org/3.7/search.html?q=string)\n",
        "\n",
        "We've seen some ways we can manipulate numbers in Python, now let's explore different ways we can interact with strings in Python.\n",
        "\n",
        "Text data in Python is represented using **strings** (think strings of characters), and Python provides various ways of interacting with strings. We've covered some of the basics like adding strings and basic formatting, but let's review."
      ],
      "metadata": {
        "collapsed": false,
        "id": "TTMgRw5jjg6K"
      }
    },
    {
      "cell_type": "code",
      "execution_count": 6,
      "metadata": {
        "collapsed": true,
        "id": "gL1AZJkUjg6M",
        "outputId": "c8409c87-119b-4993-bcc9-bbb36b6ad94d",
        "colab": {
          "base_uri": "https://localhost:8080/",
          "height": 35
        }
      },
      "outputs": [
        {
          "output_type": "execute_result",
          "data": {
            "application/vnd.google.colaboratory.intrinsic+json": {
              "type": "string"
            },
            "text/plain": [
              "'hello, Barron.'"
            ]
          },
          "metadata": {},
          "execution_count": 6
        }
      ],
      "source": [
        "greeting = \"hello\"\n",
        "name = \"Barron\"\n",
        "f\"{greeting}, {name}.\""
      ]
    },
    {
      "cell_type": "markdown",
      "source": [
        "### Built-in Functions\n",
        "\n",
        "Python provides many functions that are built-in to the interpreter and always available. Here are a few that work with strings"
      ],
      "metadata": {
        "collapsed": false,
        "id": "0-g4QzH4jg6N"
      }
    },
    {
      "cell_type": "code",
      "execution_count": 8,
      "outputs": [
        {
          "output_type": "execute_result",
          "data": {
            "application/vnd.google.colaboratory.intrinsic+json": {
              "type": "string"
            },
            "text/plain": [
              "'helloBarron'"
            ]
          },
          "metadata": {},
          "execution_count": 8
        }
      ],
      "source": [
        "greeting + name"
      ],
      "metadata": {
        "pycharm": {
          "name": "#%%\n"
        },
        "id": "kmNvuYFQjg6N",
        "outputId": "7166239b-4319-4457-af0b-b9a8ec6dd6eb",
        "colab": {
          "base_uri": "https://localhost:8080/",
          "height": 35
        }
      }
    },
    {
      "cell_type": "markdown",
      "source": [
        "We can change the characters to upper or lower case."
      ],
      "metadata": {
        "collapsed": false,
        "id": "UsVDu96ajg6O"
      }
    },
    {
      "cell_type": "code",
      "execution_count": 9,
      "outputs": [
        {
          "output_type": "execute_result",
          "data": {
            "text/plain": [
              "['__add__',\n",
              " '__class__',\n",
              " '__contains__',\n",
              " '__delattr__',\n",
              " '__dir__',\n",
              " '__doc__',\n",
              " '__eq__',\n",
              " '__format__',\n",
              " '__ge__',\n",
              " '__getattribute__',\n",
              " '__getitem__',\n",
              " '__getnewargs__',\n",
              " '__gt__',\n",
              " '__hash__',\n",
              " '__init__',\n",
              " '__init_subclass__',\n",
              " '__iter__',\n",
              " '__le__',\n",
              " '__len__',\n",
              " '__lt__',\n",
              " '__mod__',\n",
              " '__mul__',\n",
              " '__ne__',\n",
              " '__new__',\n",
              " '__reduce__',\n",
              " '__reduce_ex__',\n",
              " '__repr__',\n",
              " '__rmod__',\n",
              " '__rmul__',\n",
              " '__setattr__',\n",
              " '__sizeof__',\n",
              " '__str__',\n",
              " '__subclasshook__',\n",
              " 'capitalize',\n",
              " 'casefold',\n",
              " 'center',\n",
              " 'count',\n",
              " 'encode',\n",
              " 'endswith',\n",
              " 'expandtabs',\n",
              " 'find',\n",
              " 'format',\n",
              " 'format_map',\n",
              " 'index',\n",
              " 'isalnum',\n",
              " 'isalpha',\n",
              " 'isascii',\n",
              " 'isdecimal',\n",
              " 'isdigit',\n",
              " 'isidentifier',\n",
              " 'islower',\n",
              " 'isnumeric',\n",
              " 'isprintable',\n",
              " 'isspace',\n",
              " 'istitle',\n",
              " 'isupper',\n",
              " 'join',\n",
              " 'ljust',\n",
              " 'lower',\n",
              " 'lstrip',\n",
              " 'maketrans',\n",
              " 'partition',\n",
              " 'replace',\n",
              " 'rfind',\n",
              " 'rindex',\n",
              " 'rjust',\n",
              " 'rpartition',\n",
              " 'rsplit',\n",
              " 'rstrip',\n",
              " 'split',\n",
              " 'splitlines',\n",
              " 'startswith',\n",
              " 'strip',\n",
              " 'swapcase',\n",
              " 'title',\n",
              " 'translate',\n",
              " 'upper',\n",
              " 'zfill']"
            ]
          },
          "metadata": {},
          "execution_count": 9
        }
      ],
      "source": [
        "dir(greeting)"
      ],
      "metadata": {
        "pycharm": {
          "name": "#%%\n"
        },
        "id": "rAxy_jcrjg6O",
        "outputId": "b68d9062-af6a-4048-8690-8c3067711bff",
        "colab": {
          "base_uri": "https://localhost:8080/"
        }
      }
    },
    {
      "cell_type": "code",
      "execution_count": 10,
      "outputs": [
        {
          "output_type": "execute_result",
          "data": {
            "application/vnd.google.colaboratory.intrinsic+json": {
              "type": "string"
            },
            "text/plain": [
              "'This Is A Simple Sentence.'"
            ]
          },
          "metadata": {},
          "execution_count": 10
        }
      ],
      "source": [
        "s =  \"this is a simple sentence.\"\n",
        "\n",
        "\n",
        "s.lower()\n",
        "\n",
        "s.upper()\n",
        "\n",
        "s.title()\n",
        "\n"
      ],
      "metadata": {
        "pycharm": {
          "name": "#%%\n"
        },
        "id": "n9t5zzV-jg6O",
        "outputId": "5d721feb-404a-4b9b-aa81-5c944528decf",
        "colab": {
          "base_uri": "https://localhost:8080/",
          "height": 35
        }
      }
    },
    {
      "cell_type": "code",
      "execution_count": 12,
      "outputs": [
        {
          "output_type": "execute_result",
          "data": {
            "application/vnd.google.colaboratory.intrinsic+json": {
              "type": "string"
            },
            "text/plain": [
              "'this is a simple sentence , example of replace'"
            ]
          },
          "metadata": {},
          "execution_count": 12
        }
      ],
      "source": [
        "s.replace(\".\", \" , example of replace\")"
      ],
      "metadata": {
        "pycharm": {
          "name": "#%%\n"
        },
        "id": "1bTPEtx6jg6O",
        "outputId": "53b19d77-357c-440e-8f85-e7501bd7b550",
        "colab": {
          "base_uri": "https://localhost:8080/",
          "height": 35
        }
      }
    },
    {
      "cell_type": "markdown",
      "source": [
        "We can replace certain characters"
      ],
      "metadata": {
        "collapsed": false,
        "id": "WVhkKa_Ajg6P"
      }
    },
    {
      "cell_type": "code",
      "execution_count": 13,
      "outputs": [
        {
          "output_type": "execute_result",
          "data": {
            "application/vnd.google.colaboratory.intrinsic+json": {
              "type": "string"
            },
            "text/plain": [
              "'this is a simple sentence.'"
            ]
          },
          "metadata": {},
          "execution_count": 13
        }
      ],
      "source": [
        "s.replace(\"$$)\", \"anything\")"
      ],
      "metadata": {
        "pycharm": {
          "name": "#%%\n"
        },
        "id": "_d4vuqAbjg6P",
        "outputId": "e5bdfd4e-e717-4b3b-a268-189bf9eeed36",
        "colab": {
          "base_uri": "https://localhost:8080/",
          "height": 35
        }
      }
    },
    {
      "cell_type": "markdown",
      "source": [
        "We can check if a string could be a numeric type"
      ],
      "metadata": {
        "collapsed": false,
        "id": "rgXF3Dd5jg6P"
      }
    },
    {
      "cell_type": "code",
      "execution_count": 15,
      "outputs": [
        {
          "output_type": "execute_result",
          "data": {
            "text/plain": [
              "True"
            ]
          },
          "metadata": {},
          "execution_count": 15
        }
      ],
      "source": [
        "\"7\".isalnum()"
      ],
      "metadata": {
        "pycharm": {
          "name": "#%%\n"
        },
        "id": "-QPnljxvjg6Q",
        "outputId": "3f9609e2-8b89-4637-d509-20265b22d537",
        "colab": {
          "base_uri": "https://localhost:8080/"
        }
      }
    },
    {
      "cell_type": "code",
      "execution_count": 16,
      "outputs": [
        {
          "output_type": "execute_result",
          "data": {
            "text/plain": [
              "True"
            ]
          },
          "metadata": {},
          "execution_count": 16
        }
      ],
      "source": [
        "\"42\".isnumeric()"
      ],
      "metadata": {
        "pycharm": {
          "name": "#%%\n"
        },
        "id": "NqB0E0aejg6Q",
        "outputId": "e31c89de-0c99-46ec-fb48-9249a207fae8",
        "colab": {
          "base_uri": "https://localhost:8080/"
        }
      }
    },
    {
      "cell_type": "markdown",
      "source": [
        "We can check if a string contains a **sub-string**"
      ],
      "metadata": {
        "collapsed": false,
        "id": "GRgJoP_vjg6Q"
      }
    },
    {
      "cell_type": "code",
      "execution_count": 17,
      "outputs": [
        {
          "output_type": "execute_result",
          "data": {
            "text/plain": [
              "True"
            ]
          },
          "metadata": {},
          "execution_count": 17
        }
      ],
      "source": [
        "\"this\" in s"
      ],
      "metadata": {
        "pycharm": {
          "name": "#%%\n"
        },
        "id": "_6-LRMh_jg6Q",
        "outputId": "09e691de-2d78-49d9-db7f-ff246f90064b",
        "colab": {
          "base_uri": "https://localhost:8080/"
        }
      }
    },
    {
      "cell_type": "code",
      "source": [
        "\"potato\" in s"
      ],
      "metadata": {
        "id": "u0UQIIl7pnhN",
        "outputId": "6c05f6e5-1fa4-4c3e-8e2f-4435c321682c",
        "colab": {
          "base_uri": "https://localhost:8080/"
        }
      },
      "execution_count": 18,
      "outputs": [
        {
          "output_type": "execute_result",
          "data": {
            "text/plain": [
              "False"
            ]
          },
          "metadata": {},
          "execution_count": 18
        }
      ]
    },
    {
      "cell_type": "code",
      "source": [
        "\"THIS\" in s"
      ],
      "metadata": {
        "id": "UNZlhuooprZ9",
        "outputId": "a6a5c8b0-b3d8-4114-f96e-2eef214514cf",
        "colab": {
          "base_uri": "https://localhost:8080/"
        }
      },
      "execution_count": 19,
      "outputs": [
        {
          "output_type": "execute_result",
          "data": {
            "text/plain": [
              "False"
            ]
          },
          "metadata": {},
          "execution_count": 19
        }
      ]
    },
    {
      "cell_type": "markdown",
      "source": [
        "We can count the number of times something appears in a string."
      ],
      "metadata": {
        "collapsed": false,
        "id": "ecPm9ZmLjg6Q"
      }
    },
    {
      "cell_type": "code",
      "execution_count": 20,
      "outputs": [
        {
          "output_type": "execute_result",
          "data": {
            "text/plain": [
              "4"
            ]
          },
          "metadata": {},
          "execution_count": 20
        }
      ],
      "source": [
        "s.count(\" \")"
      ],
      "metadata": {
        "pycharm": {
          "name": "#%%\n"
        },
        "id": "SIASim0zjg6R",
        "outputId": "b8cf644e-3983-400f-daa0-4fd38d2b48ac",
        "colab": {
          "base_uri": "https://localhost:8080/"
        }
      }
    },
    {
      "cell_type": "code",
      "source": [
        "s.count(\"e\")"
      ],
      "metadata": {
        "id": "bNgnsdOvqTEF",
        "outputId": "ac9022da-2e1b-402b-ec9a-65bda7ad6427",
        "colab": {
          "base_uri": "https://localhost:8080/"
        }
      },
      "execution_count": 21,
      "outputs": [
        {
          "output_type": "execute_result",
          "data": {
            "text/plain": [
              "4"
            ]
          },
          "metadata": {},
          "execution_count": 21
        }
      ]
    },
    {
      "cell_type": "code",
      "source": [
        "s.count(\"i\")"
      ],
      "metadata": {
        "id": "c_oD06beqWPV",
        "outputId": "356bf1e3-5cd5-4612-d545-fb20c120cc2e",
        "colab": {
          "base_uri": "https://localhost:8080/"
        }
      },
      "execution_count": 22,
      "outputs": [
        {
          "output_type": "execute_result",
          "data": {
            "text/plain": [
              "3"
            ]
          },
          "metadata": {},
          "execution_count": 22
        }
      ]
    },
    {
      "cell_type": "markdown",
      "source": [
        "or check if a string starts with another substring"
      ],
      "metadata": {
        "collapsed": false,
        "id": "3q8TJ8ZPjg6R"
      }
    },
    {
      "cell_type": "code",
      "execution_count": 23,
      "outputs": [
        {
          "output_type": "execute_result",
          "data": {
            "text/plain": [
              "False"
            ]
          },
          "metadata": {},
          "execution_count": 23
        }
      ],
      "source": [
        "s.startswith(\"T\")"
      ],
      "metadata": {
        "pycharm": {
          "name": "#%%\n"
        },
        "id": "RjWuXwV9jg6R",
        "outputId": "3553451b-3872-4b21-ec06-7fc0dfa59bf0",
        "colab": {
          "base_uri": "https://localhost:8080/"
        }
      }
    },
    {
      "cell_type": "code",
      "source": [
        "s.endswith(\".\")"
      ],
      "metadata": {
        "id": "WssT6ZY8qrY8",
        "outputId": "4c085cd8-5ac4-4594-f4ca-b2b2ed6c3dca",
        "colab": {
          "base_uri": "https://localhost:8080/"
        }
      },
      "execution_count": 24,
      "outputs": [
        {
          "output_type": "execute_result",
          "data": {
            "text/plain": [
              "True"
            ]
          },
          "metadata": {},
          "execution_count": 24
        }
      ]
    },
    {
      "cell_type": "code",
      "source": [
        "s.startswith(\"4\")"
      ],
      "metadata": {
        "id": "MwIGIBQIqvlT",
        "outputId": "db34944f-2457-4a38-e353-aad6a96a3cba",
        "colab": {
          "base_uri": "https://localhost:8080/"
        }
      },
      "execution_count": 25,
      "outputs": [
        {
          "output_type": "execute_result",
          "data": {
            "text/plain": [
              "False"
            ]
          },
          "metadata": {},
          "execution_count": 25
        }
      ]
    },
    {
      "cell_type": "markdown",
      "source": [
        "With `len()`, you can check Python string length"
      ],
      "metadata": {
        "collapsed": false,
        "id": "ArXTq6r9jg6R"
      }
    },
    {
      "cell_type": "code",
      "execution_count": 26,
      "outputs": [
        {
          "output_type": "execute_result",
          "data": {
            "text/plain": [
              "26"
            ]
          },
          "metadata": {},
          "execution_count": 26
        }
      ],
      "source": [
        " len(s)"
      ],
      "metadata": {
        "pycharm": {
          "name": "#%%\n"
        },
        "id": "Xtqfj7gIjg6S",
        "outputId": "f1387baf-65b8-494f-8f51-b0572330b25b",
        "colab": {
          "base_uri": "https://localhost:8080/"
        }
      }
    },
    {
      "cell_type": "markdown",
      "source": [
        "Each character in string has a position similar to how lists behaved in Snap"
      ],
      "metadata": {
        "collapsed": false,
        "id": "ztd32hfdjg6S"
      }
    },
    {
      "cell_type": "code",
      "execution_count": 28,
      "outputs": [
        {
          "output_type": "stream",
          "name": "stdout",
          "text": [
            "t\n",
            "h\n",
            "i\n",
            "s\n",
            " \n",
            "i\n",
            "s\n",
            " \n",
            "a\n",
            " \n",
            "s\n",
            "i\n",
            "m\n",
            "p\n",
            "l\n",
            "e\n",
            " \n",
            "s\n",
            "e\n",
            "n\n",
            "t\n",
            "e\n",
            "n\n",
            "c\n",
            "e\n",
            ".\n"
          ]
        }
      ],
      "source": [
        "for char in s:\n",
        "  print(char)"
      ],
      "metadata": {
        "pycharm": {
          "name": "#%%\n"
        },
        "id": "KiUFlhpLjg6S",
        "outputId": "46044e42-b4e6-453d-98c6-fab6660f3090",
        "colab": {
          "base_uri": "https://localhost:8080/"
        }
      }
    },
    {
      "cell_type": "markdown",
      "source": [
        "We can get the last character with `[-1]`"
      ],
      "metadata": {
        "collapsed": false,
        "id": "t0eCrdi7jg6S"
      }
    },
    {
      "cell_type": "code",
      "execution_count": 29,
      "outputs": [
        {
          "output_type": "execute_result",
          "data": {
            "application/vnd.google.colaboratory.intrinsic+json": {
              "type": "string"
            },
            "text/plain": [
              "'t'"
            ]
          },
          "metadata": {},
          "execution_count": 29
        }
      ],
      "source": [
        "s[0]"
      ],
      "metadata": {
        "pycharm": {
          "name": "#%%\n"
        },
        "id": "DaRW_sOCjg6S",
        "outputId": "696e3d0b-2ccf-47ac-d2c4-634507981c02",
        "colab": {
          "base_uri": "https://localhost:8080/",
          "height": 35
        }
      }
    },
    {
      "cell_type": "code",
      "source": [
        "s[3]"
      ],
      "metadata": {
        "id": "gb-i6-WAsgOy",
        "outputId": "ec4dc24f-8fe6-4286-b6c2-a56d656b38b4",
        "colab": {
          "base_uri": "https://localhost:8080/",
          "height": 35
        }
      },
      "execution_count": 31,
      "outputs": [
        {
          "output_type": "execute_result",
          "data": {
            "application/vnd.google.colaboratory.intrinsic+json": {
              "type": "string"
            },
            "text/plain": [
              "'s'"
            ]
          },
          "metadata": {},
          "execution_count": 31
        }
      ]
    },
    {
      "cell_type": "markdown",
      "source": [
        "We can also take *slices* from strings, remember in Python we start counting from 0."
      ],
      "metadata": {
        "collapsed": false,
        "id": "BDtL8hKnjg6S"
      }
    },
    {
      "cell_type": "code",
      "execution_count": 32,
      "outputs": [
        {
          "output_type": "execute_result",
          "data": {
            "application/vnd.google.colaboratory.intrinsic+json": {
              "type": "string"
            },
            "text/plain": [
              "'this'"
            ]
          },
          "metadata": {},
          "execution_count": 32
        }
      ],
      "source": [
        "# in python the lower bound (number) is inclusive\n",
        "# the upper bound (number / limit) is exclusive\n",
        "s[0:4]"
      ],
      "metadata": {
        "pycharm": {
          "name": "#%%\n"
        },
        "id": "WMr2Wbucjg6T",
        "outputId": "4d616e19-6cff-46b9-b1e7-d306f3879e46",
        "colab": {
          "base_uri": "https://localhost:8080/",
          "height": 35
        }
      }
    },
    {
      "cell_type": "code",
      "execution_count": 33,
      "outputs": [
        {
          "output_type": "execute_result",
          "data": {
            "application/vnd.google.colaboratory.intrinsic+json": {
              "type": "string"
            },
            "text/plain": [
              "'.'"
            ]
          },
          "metadata": {},
          "execution_count": 33
        }
      ],
      "source": [
        "s[len(s) - 1]"
      ],
      "metadata": {
        "pycharm": {
          "name": "#%%\n"
        },
        "id": "wC5AjrU5jg6T",
        "outputId": "3ede3ca0-6ee1-4795-8b18-96f5cff70735",
        "colab": {
          "base_uri": "https://localhost:8080/",
          "height": 35
        }
      }
    },
    {
      "cell_type": "markdown",
      "source": [
        "There is also a number of tricks for formatting strings"
      ],
      "metadata": {
        "collapsed": false,
        "id": "F5cUhoVQjg6T"
      }
    },
    {
      "cell_type": "code",
      "execution_count": 39,
      "outputs": [],
      "source": [
        "example = \"  foo bar baz   \""
      ],
      "metadata": {
        "pycharm": {
          "name": "#%%\n"
        },
        "id": "F1UhMyjijg6T"
      }
    },
    {
      "cell_type": "code",
      "execution_count": 40,
      "outputs": [
        {
          "output_type": "execute_result",
          "data": {
            "application/vnd.google.colaboratory.intrinsic+json": {
              "type": "string"
            },
            "text/plain": [
              "'  foo bar baz'"
            ]
          },
          "metadata": {},
          "execution_count": 40
        }
      ],
      "source": [
        "example.rstrip()"
      ],
      "metadata": {
        "pycharm": {
          "name": "#%%\n"
        },
        "id": "9RdRTdzUjg6T",
        "outputId": "dc78d771-5eb5-497c-e25b-d73efeeecc6b",
        "colab": {
          "base_uri": "https://localhost:8080/",
          "height": 35
        }
      }
    },
    {
      "cell_type": "code",
      "execution_count": 41,
      "outputs": [
        {
          "output_type": "execute_result",
          "data": {
            "application/vnd.google.colaboratory.intrinsic+json": {
              "type": "string"
            },
            "text/plain": [
              "'foo bar baz   '"
            ]
          },
          "metadata": {},
          "execution_count": 41
        }
      ],
      "source": [
        "example.lstrip()"
      ],
      "metadata": {
        "pycharm": {
          "name": "#%%\n"
        },
        "id": "_bSUk4XZjg6T",
        "outputId": "c43b315c-62ba-476d-de94-c1de6ea5eb3b",
        "colab": {
          "base_uri": "https://localhost:8080/",
          "height": 35
        }
      }
    },
    {
      "cell_type": "markdown",
      "source": [
        "If we have a list (we will explore these more later) of strings we can join them together"
      ],
      "metadata": {
        "collapsed": false,
        "id": "Y0VhYll2jg6T"
      }
    },
    {
      "cell_type": "code",
      "execution_count": 37,
      "outputs": [],
      "source": [
        "string_list = [\"foo\",\"bar\", \"baz\"]"
      ],
      "metadata": {
        "pycharm": {
          "name": "#%%\n"
        },
        "id": "NDZNtNfdjg6U"
      }
    },
    {
      "cell_type": "code",
      "execution_count": 38,
      "outputs": [
        {
          "output_type": "execute_result",
          "data": {
            "application/vnd.google.colaboratory.intrinsic+json": {
              "type": "string"
            },
            "text/plain": [
              "'foo, bar, baz'"
            ]
          },
          "metadata": {},
          "execution_count": 38
        }
      ],
      "source": [
        "\", \".join(string_list)"
      ],
      "metadata": {
        "pycharm": {
          "name": "#%%\n"
        },
        "id": "w_syxwRwjg6U",
        "outputId": "d10692ca-9304-4667-a261-9ab280269d06",
        "colab": {
          "base_uri": "https://localhost:8080/",
          "height": 35
        }
      }
    },
    {
      "cell_type": "markdown",
      "source": [
        "As you can see there is a lot we can do with strings and rightly so as we tend to interact with text data quite frequently while programming."
      ],
      "metadata": {
        "collapsed": false,
        "pycharm": {
          "name": "#%% md\n"
        },
        "id": "KizTdTjwjg6U"
      }
    }
  ],
  "metadata": {
    "kernelspec": {
      "name": "python3",
      "language": "python",
      "display_name": "Python 3 (ipykernel)"
    },
    "language_info": {
      "codemirror_mode": {
        "name": "ipython",
        "version": 2
      },
      "file_extension": ".py",
      "mimetype": "text/x-python",
      "name": "python",
      "nbconvert_exporter": "python",
      "pygments_lexer": "ipython2",
      "version": "2.7.6"
    },
    "colab": {
      "name": "Notes-1-04-01_String-manipulation-lecture.ipynb",
      "provenance": [],
      "include_colab_link": true
    }
  },
  "nbformat": 4,
  "nbformat_minor": 0
}